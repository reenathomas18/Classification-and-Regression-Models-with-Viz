{
 "cells": [
  {
   "cell_type": "code",
   "execution_count": 4,
   "metadata": {},
   "outputs": [],
   "source": [
    "import numpy as np\n",
    "import pandas as pd"
   ]
  },
  {
   "cell_type": "code",
   "execution_count": 5,
   "metadata": {},
   "outputs": [],
   "source": [
    "data = pd.read_csv('Social_Network_Ads.csv')"
   ]
  },
  {
   "cell_type": "code",
   "execution_count": 7,
   "metadata": {},
   "outputs": [
    {
     "name": "stdout",
     "output_type": "stream",
     "text": [
      "<class 'pandas.core.frame.DataFrame'>\n",
      "RangeIndex: 400 entries, 0 to 399\n",
      "Data columns (total 5 columns):\n",
      "User ID            400 non-null int64\n",
      "Gender             400 non-null object\n",
      "Age                400 non-null int64\n",
      "EstimatedSalary    400 non-null int64\n",
      "Purchased          400 non-null int64\n",
      "dtypes: int64(4), object(1)\n",
      "memory usage: 15.8+ KB\n"
     ]
    },
    {
     "data": {
      "text/plain": [
       "0    257\n",
       "1    143\n",
       "Name: Purchased, dtype: int64"
      ]
     },
     "execution_count": 7,
     "metadata": {},
     "output_type": "execute_result"
    }
   ],
   "source": [
    "data.info()\n",
    "data.Purchased.value_counts()"
   ]
  },
  {
   "cell_type": "code",
   "execution_count": 4,
   "metadata": {},
   "outputs": [],
   "source": [
    "features = data.iloc[:,[2,3]].values\n",
    "label = data.iloc[:,4].values"
   ]
  },
  {
   "cell_type": "code",
   "execution_count": 5,
   "metadata": {},
   "outputs": [],
   "source": [
    "from sklearn.model_selection import train_test_split\n",
    "X_train,X_test,y_train,y_test = train_test_split(features,\n",
    "                                                label,\n",
    "                                                test_size=0.2,\n",
    "                                                random_state=10)"
   ]
  },
  {
   "cell_type": "code",
   "execution_count": 6,
   "metadata": {},
   "outputs": [
    {
     "name": "stderr",
     "output_type": "stream",
     "text": [
      "//anaconda3/lib/python3.7/site-packages/sklearn/linear_model/logistic.py:432: FutureWarning: Default solver will be changed to 'lbfgs' in 0.22. Specify a solver to silence this warning.\n",
      "  FutureWarning)\n"
     ]
    },
    {
     "data": {
      "text/plain": [
       "LogisticRegression(C=1.0, class_weight=None, dual=False, fit_intercept=True,\n",
       "                   intercept_scaling=1, l1_ratio=None, max_iter=100,\n",
       "                   multi_class='warn', n_jobs=None, penalty='l2',\n",
       "                   random_state=None, solver='warn', tol=0.0001, verbose=0,\n",
       "                   warm_start=False)"
      ]
     },
     "execution_count": 6,
     "metadata": {},
     "output_type": "execute_result"
    }
   ],
   "source": [
    "from sklearn.linear_model import LogisticRegression\n",
    "model = LogisticRegression()\n",
    "model.fit(X_train,y_train)"
   ]
  },
  {
   "cell_type": "code",
   "execution_count": 8,
   "metadata": {},
   "outputs": [
    {
     "data": {
      "text/plain": [
       "0.640625"
      ]
     },
     "execution_count": 8,
     "metadata": {},
     "output_type": "execute_result"
    }
   ],
   "source": [
    "model.score(X_train,y_train)"
   ]
  },
  {
   "cell_type": "code",
   "execution_count": 9,
   "metadata": {},
   "outputs": [
    {
     "data": {
      "text/plain": [
       "0.65"
      ]
     },
     "execution_count": 9,
     "metadata": {},
     "output_type": "execute_result"
    }
   ],
   "source": [
    "model.score(X_test,y_test)"
   ]
  },
  {
   "cell_type": "code",
   "execution_count": 7,
   "metadata": {},
   "outputs": [],
   "source": [
    "# For Demo purpose I am going to show ROC and PR curve. However for this example PR curve is the cvalid curve to (since its unbalnced)\n",
    "#consider "
   ]
  },
  {
   "cell_type": "markdown",
   "metadata": {},
   "source": [
    "# ROC Curve Implementation"
   ]
  },
  {
   "cell_type": "code",
   "execution_count": 14,
   "metadata": {},
   "outputs": [
    {
     "data": {
      "text/plain": [
       "array([0.44417889, 0.44672283, 0.43689639, 0.44513822, 0.46554364,\n",
       "       0.44269648, 0.45348476, 0.44630623, 0.45195334, 0.44500422,\n",
       "       0.44678988, 0.44245267, 0.41091817, 0.44267975, 0.45301661,\n",
       "       0.44586336, 0.44978738, 0.46173954, 0.46919252, 0.43017049,\n",
       "       0.46032165, 0.46022056, 0.44555461, 0.42298547, 0.43570983,\n",
       "       0.45140148, 0.44937025, 0.42493029, 0.44836844, 0.45871196,\n",
       "       0.46339414, 0.45152623, 0.45836799, 0.44896996, 0.42338039,\n",
       "       0.45750464, 0.43405745, 0.42353649, 0.45115918, 0.45799039,\n",
       "       0.45088333, 0.4474413 , 0.47321417, 0.4591979 , 0.44992166,\n",
       "       0.46189124, 0.41905819, 0.45348476, 0.44409518, 0.45697569,\n",
       "       0.43928125, 0.43156978, 0.44426261, 0.4478581 , 0.44768323,\n",
       "       0.44497072, 0.43176944, 0.45326626, 0.44347104, 0.40720396,\n",
       "       0.4523709 , 0.43003039, 0.45171099, 0.42550804, 0.41489654,\n",
       "       0.43752811, 0.44417889, 0.41258657, 0.47550418, 0.44323672,\n",
       "       0.44643072, 0.43771885, 0.46445186, 0.45799039, 0.45009669,\n",
       "       0.44735746, 0.45895492, 0.46435064, 0.4244285 , 0.4501063 ])"
      ]
     },
     "execution_count": 14,
     "metadata": {},
     "output_type": "execute_result"
    }
   ],
   "source": [
    "#plotting the ROC curve for test model\n",
    "model.predict_proba(X_test)[:,1]"
   ]
  },
  {
   "cell_type": "code",
   "execution_count": 16,
   "metadata": {},
   "outputs": [
    {
     "data": {
      "text/plain": [
       "[<matplotlib.lines.Line2D at 0x1a22d325c0>]"
      ]
     },
     "execution_count": 16,
     "metadata": {},
     "output_type": "execute_result"
    },
    {
     "data": {
      "image/png": "[encoded data removed]",
      "text/plain": [
       "<Figure size 432x288 with 1 Axes>"
      ]
     },
     "metadata": {
      "needs_background": "light"
     },
     "output_type": "display_data"
    }
   ],
   "source": [
    "#Plot ROC\n",
    "\n",
    "from sklearn.metrics import roc_curve\n",
    "from sklearn.metrics import roc_auc_score\n",
    "import matplotlib.pyplot as plt\n",
    "%matplotlib inline\n",
    "\n",
    "\n",
    "#Step1: Extract the prob values for label 1\n",
    "probabilityValues = model.predict_proba(X_test)[:,1]\n",
    "\n",
    "#Step2: Calc AUC\n",
    "auc = roc_auc_score(y_test,probabilityValues)\n",
    "\n",
    "#Step3: Plot Skill Line\n",
    "plt.plot([0,1],[0,1], linestyle='--')\n",
    "\n",
    "#Step4: Plot ROC curve\n",
    "\n",
    "fpr,tpr,threshold = roc_curve(y_test,probabilityValues)\n",
    "plt.plot(fpr,tpr)\n",
    "\n",
    "\n",
    "\n"
   ]
  },
  {
   "cell_type": "markdown",
   "metadata": {},
   "source": [
    "# PR Curve"
   ]
  },
  {
   "cell_type": "code",
   "execution_count": 18,
   "metadata": {},
   "outputs": [
    {
     "data": {
      "text/plain": [
       "[<matplotlib.lines.Line2D at 0x1a22db2fd0>]"
      ]
     },
     "execution_count": 18,
     "metadata": {},
     "output_type": "execute_result"
    },
    {
     "data": {
      "image/png": "[encoded data removed]",
      "text/plain": [
       "<Figure size 432x288 with 1 Axes>"
      ]
     },
     "metadata": {
      "needs_background": "light"
     },
     "output_type": "display_data"
    }
   ],
   "source": [
    "from sklearn.metrics import precision_recall_curve\n",
    "from sklearn.metrics import auc\n",
    "import matplotlib.pyplot as plt\n",
    "%matplotlib inline\n",
    "\n",
    "#Step1: Extract the prob values for label 1\n",
    "probabilityValues = model.predict_proba(X_test)[:,1]\n",
    "\n",
    "#Step2: Calc AUC\n",
    "precision,recall,threshold = precision_recall_curve(y_test,probabilityValues)\n",
    "auc = auc(recall,precision)\n",
    "\n",
    "#Step3: Plot Skill Line\n",
    "plt.plot([0,1],[0.5,0.5], linestyle='--')\n",
    "\n",
    "#Step4: Plot PR curve\n",
    "plt.plot(recall,precision)\n",
    "\n",
    "\n",
    "\n"
   ]
  },
  {
   "cell_type": "code",
   "execution_count": 21,
   "metadata": {},
   "outputs": [
    {
     "name": "stdout",
     "output_type": "stream",
     "text": [
      "0.6875--0.63125--3\n",
      "0.8875--0.790625--4\n",
      "0.6625--0.6375--5\n",
      "0.675--0.634375--7\n",
      "0.675--0.634375--8\n",
      "0.65--0.640625--10\n",
      "0.6625--0.6375--11\n",
      "0.675--0.634375--16\n",
      "0.7--0.628125--17\n",
      "0.7--0.628125--21\n",
      "0.65--0.640625--24\n",
      "0.6625--0.6375--25\n",
      "0.8625--0.815625--26\n",
      "0.675--0.634375--27\n",
      "0.7--0.628125--28\n",
      "0.6875--0.63125--29\n",
      "0.6875--0.63125--31\n",
      "0.6625--0.6375--37\n",
      "0.675--0.640625--39\n",
      "0.7--0.628125--40\n",
      "0.6625--0.64375--42\n",
      "0.85--0.790625--46\n",
      "0.65--0.640625--48\n",
      "0.675--0.634375--50\n",
      "0.65--0.640625--51\n",
      "0.65--0.640625--54\n",
      "0.65--0.64375--56\n",
      "0.6625--0.6375--58\n",
      "0.6875--0.6375--59\n",
      "0.7--0.628125--60\n",
      "0.6625--0.6375--62\n",
      "0.6875--0.63125--63\n",
      "0.65--0.640625--66\n",
      "0.65--0.640625--74\n",
      "0.65--0.640625--75\n",
      "0.6875--0.63125--76\n",
      "0.6875--0.63125--80\n",
      "0.675--0.634375--81\n",
      "0.7--0.628125--83\n",
      "0.675--0.634375--84\n",
      "0.675--0.634375--86\n",
      "0.65--0.640625--87\n",
      "0.675--0.634375--90\n",
      "0.675--0.640625--91\n",
      "0.7--0.628125--93\n",
      "0.85--0.834375--94\n",
      "0.65--0.640625--97\n",
      "0.7875--0.784375--99\n",
      "0.675--0.634375--101\n",
      "0.6625--0.6375--102\n",
      "0.725--0.621875--103\n",
      "0.65--0.640625--106\n",
      "0.65--0.640625--109\n",
      "0.675--0.634375--116\n",
      "0.65--0.640625--117\n",
      "0.675--0.634375--119\n",
      "0.65--0.640625--120\n",
      "0.6625--0.6375--121\n",
      "0.725--0.653125--125\n",
      "0.65--0.640625--127\n",
      "0.65--0.640625--128\n",
      "0.6875--0.63125--129\n",
      "0.6875--0.63125--130\n",
      "0.6625--0.6375--132\n",
      "0.6875--0.63125--133\n",
      "0.675--0.634375--134\n",
      "0.675--0.640625--138\n",
      "0.7--0.628125--139\n",
      "0.85--0.840625--141\n",
      "0.725--0.621875--142\n",
      "0.6625--0.6375--143\n",
      "0.6625--0.6375--145\n",
      "0.875--0.8125--150\n",
      "0.65--0.640625--152\n",
      "0.6625--0.6375--154\n",
      "0.675--0.634375--155\n",
      "0.6625--0.6375--159\n",
      "0.7125--0.625--161\n",
      "0.675--0.634375--162\n",
      "0.6625--0.6375--163\n",
      "0.65--0.640625--165\n",
      "0.6625--0.6375--169\n",
      "0.675--0.634375--170\n",
      "0.7125--0.625--173\n",
      "0.65--0.640625--176\n",
      "0.6625--0.6375--178\n",
      "0.6625--0.6375--179\n",
      "0.6625--0.6375--180\n",
      "0.6625--0.6375--181\n",
      "0.65--0.640625--184\n",
      "0.6625--0.6375--185\n",
      "0.675--0.634375--188\n",
      "0.7375--0.61875--189\n",
      "0.7--0.628125--192\n",
      "0.65--0.640625--193\n",
      "0.6875--0.63125--194\n",
      "0.65--0.640625--195\n",
      "0.6625--0.6375--196\n",
      "0.675--0.634375--198\n"
     ]
    }
   ],
   "source": [
    "#Model2\n",
    "import warnings\n",
    "warnings.filterwarnings('ignore')\n",
    "for i in range(1,201):\n",
    "    from sklearn.model_selection import train_test_split\n",
    "    X_train,X_test,y_train,y_test = train_test_split(features,\n",
    "                                                label,\n",
    "                                                test_size=0.2,\n",
    "                                                random_state=i)\n",
    "    model = LogisticRegression()\n",
    "    model.fit(X_train,y_train)\n",
    "    \n",
    "    train_score = model.score(X_train,y_train)\n",
    "    test_score = model.score(X_test,y_test)\n",
    "    \n",
    "    if test_score > train_score:\n",
    "        print(\"{}--{}--{}\".format(test_score,train_score,i))"
   ]
  },
  {
   "cell_type": "code",
   "execution_count": 23,
   "metadata": {},
   "outputs": [
    {
     "data": {
      "text/plain": [
       "LogisticRegression(C=1.0, class_weight=None, dual=False, fit_intercept=True,\n",
       "                   intercept_scaling=1, l1_ratio=None, max_iter=100,\n",
       "                   multi_class='warn', n_jobs=None, penalty='l2',\n",
       "                   random_state=None, solver='warn', tol=0.0001, verbose=0,\n",
       "                   warm_start=False)"
      ]
     },
     "execution_count": 23,
     "metadata": {},
     "output_type": "execute_result"
    }
   ],
   "source": [
    "X_train,X_test,y_train,y_test = train_test_split(features,\n",
    "                                                label,\n",
    "                                                test_size=0.2,\n",
    "                                                random_state=4)\n",
    "modelNew = LogisticRegression()\n",
    "modelNew.fit(X_train,y_train)"
   ]
  },
  {
   "cell_type": "code",
   "execution_count": 24,
   "metadata": {},
   "outputs": [
    {
     "data": {
      "text/plain": [
       "[<matplotlib.lines.Line2D at 0x1a231bf978>]"
      ]
     },
     "execution_count": 24,
     "metadata": {},
     "output_type": "execute_result"
    },
    {
     "data": {
      "image/png": "[encoded data removed]",
      "text/plain": [
       "<Figure size 432x288 with 1 Axes>"
      ]
     },
     "metadata": {
      "needs_background": "light"
     },
     "output_type": "display_data"
    }
   ],
   "source": [
    "from sklearn.metrics import precision_recall_curve\n",
    "from sklearn.metrics import auc\n",
    "import matplotlib.pyplot as plt\n",
    "%matplotlib inline\n",
    "\n",
    "#Step1: Extract the prob values for label 1\n",
    "probabilityValues = modelNew.predict_proba(X_test)[:,1]\n",
    "\n",
    "#Step2: Calc AUC\n",
    "precision,recall,threshold = precision_recall_curve(y_test,probabilityValues)\n",
    "auc = auc(recall,precision)\n",
    "\n",
    "#Step3: Plot Skill Line\n",
    "plt.plot([0,1],[0.5,0.5], linestyle='--')\n",
    "\n",
    "#Step4: Plot PR curve\n",
    "plt.plot(recall,precision)\n",
    "\n",
    "\n",
    "\n",
    "\n"
   ]
  },
  {
   "cell_type": "markdown",
   "metadata": {},
   "source": [
    "# KNN Algorithm Implementation"
   ]
  },
  {
   "cell_type": "code",
   "execution_count": 34,
   "metadata": {},
   "outputs": [
    {
     "data": {
      "text/plain": [
       "KNeighborsClassifier(algorithm='auto', leaf_size=30, metric='minkowski',\n",
       "                     metric_params=None, n_jobs=None, n_neighbors=5, p=2,\n",
       "                     weights='uniform')"
      ]
     },
     "execution_count": 34,
     "metadata": {},
     "output_type": "execute_result"
    }
   ],
   "source": [
    "from sklearn.neighbors import KNeighborsClassifier\n",
    "modelKNN = KNeighborsClassifier(n_neighbors=5)\n",
    "modelKNN.fit(X_train,y_train)"
   ]
  },
  {
   "cell_type": "code",
   "execution_count": 37,
   "metadata": {},
   "outputs": [
    {
     "data": {
      "text/plain": [
       "0.86875"
      ]
     },
     "execution_count": 37,
     "metadata": {},
     "output_type": "execute_result"
    }
   ],
   "source": [
    "modelKNN.score(X_train,y_train)\n"
   ]
  },
  {
   "cell_type": "code",
   "execution_count": 39,
   "metadata": {},
   "outputs": [
    {
     "data": {
      "text/plain": [
       "0.9125"
      ]
     },
     "execution_count": 39,
     "metadata": {},
     "output_type": "execute_result"
    }
   ],
   "source": [
    "modelKNN.score(X_test,y_test)"
   ]
  },
  {
   "cell_type": "code",
   "execution_count": 40,
   "metadata": {},
   "outputs": [
    {
     "data": {
      "text/plain": [
       "[<matplotlib.lines.Line2D at 0x1a22a88ef0>]"
      ]
     },
     "execution_count": 40,
     "metadata": {},
     "output_type": "execute_result"
    },
    {
     "data": {
      "image/png": "[encoded data removed]",
      "text/plain": [
       "<Figure size 432x288 with 1 Axes>"
      ]
     },
     "metadata": {
      "needs_background": "light"
     },
     "output_type": "display_data"
    }
   ],
   "source": [
    "from sklearn.metrics import precision_recall_curve\n",
    "from sklearn.metrics import auc\n",
    "import matplotlib.pyplot as plt\n",
    "%matplotlib inline\n",
    "\n",
    "#Step1: Extract the prob values for label 1\n",
    "probabilityValues = modelKNN.predict_proba(X_test)[:,1]\n",
    "\n",
    "#Step2: Calc AUC\n",
    "precision,recall,threshold = precision_recall_curve(y_test,probabilityValues)\n",
    "auc = auc(recall,precision)\n",
    "\n",
    "#Step3: Plot Skill Line\n",
    "plt.plot([0,1],[0.5,0.5], linestyle='--')\n",
    "\n",
    "#Step4: Plot PR curve\n",
    "plt.plot(recall,precision)\n",
    "\n",
    "\n"
   ]
  },
  {
   "cell_type": "code",
   "execution_count": 47,
   "metadata": {},
   "outputs": [
    {
     "data": {
      "text/plain": [
       "[<matplotlib.lines.Line2D at 0x1a22ac97b8>]"
      ]
     },
     "execution_count": 47,
     "metadata": {},
     "output_type": "execute_result"
    },
    {
     "data": {
      "image/png": "[encoded data removed]",
      "text/plain": [
       "<Figure size 432x288 with 1 Axes>"
      ]
     },
     "metadata": {
      "needs_background": "light"
     },
     "output_type": "display_data"
    }
   ],
   "source": [
    "from sklearn.metrics import precision_recall_curve\n",
    "from sklearn.metrics import auc\n",
    "import matplotlib.pyplot as plt\n",
    "%matplotlib inline\n",
    "\n",
    "#Step1: Extract the prob values for label 1\n",
    "probabilityValues = modelKNN.predict_proba(features)[:,1]\n",
    "\n",
    "#Step2: Calc AUC\n",
    "precision,recall,threshold = precision_recall_curve(label,probabilityValues)\n",
    "auc = auc(recall,precision)\n",
    "\n",
    "#Step3: Plot Skill Line\n",
    "plt.plot([0,1],[0.5,0.5], linestyle='--')\n",
    "\n",
    "#Step4: Plot PR curve\n",
    "plt.plot(recall,precision)\n",
    "\n"
   ]
  },
  {
   "cell_type": "code",
   "execution_count": null,
   "metadata": {},
   "outputs": [],
   "source": []
  }
 ],
 "metadata": {
  "kernelspec": {
   "display_name": "Python 3",
   "language": "python",
   "name": "python3"
  },
  "language_info": {
   "codemirror_mode": {
    "name": "ipython",
    "version": 3
   },
   "file_extension": ".py",
   "mimetype": "text/x-python",
   "name": "python",
   "nbconvert_exporter": "python",
   "pygments_lexer": "ipython3",
   "version": "3.7.4"
  }
 },
 "nbformat": 4,
 "nbformat_minor": 2
}

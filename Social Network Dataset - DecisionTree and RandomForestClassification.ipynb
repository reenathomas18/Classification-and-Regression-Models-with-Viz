{
 "cells": [
  {
   "cell_type": "code",
   "execution_count": 22,
   "metadata": {},
   "outputs": [],
   "source": [
    "import numpy as np\n",
    "import pandas as pd\n"
   ]
  },
  {
   "cell_type": "code",
   "execution_count": 23,
   "metadata": {},
   "outputs": [],
   "source": [
    "data = pd.read_csv('Social_Network_Ads.csv')"
   ]
  },
  {
   "cell_type": "code",
   "execution_count": 24,
   "metadata": {},
   "outputs": [
    {
     "name": "stdout",
     "output_type": "stream",
     "text": [
      "<class 'pandas.core.frame.DataFrame'>\n",
      "RangeIndex: 400 entries, 0 to 399\n",
      "Data columns (total 5 columns):\n",
      "User ID            400 non-null int64\n",
      "Gender             400 non-null object\n",
      "Age                400 non-null int64\n",
      "EstimatedSalary    400 non-null int64\n",
      "Purchased          400 non-null int64\n",
      "dtypes: int64(4), object(1)\n",
      "memory usage: 15.8+ KB\n"
     ]
    },
    {
     "data": {
      "text/html": [
       "<div>\n",
       "<style scoped>\n",
       "    .dataframe tbody tr th:only-of-type {\n",
       "        vertical-align: middle;\n",
       "    }\n",
       "\n",
       "    .dataframe tbody tr th {\n",
       "        vertical-align: top;\n",
       "    }\n",
       "\n",
       "    .dataframe thead th {\n",
       "        text-align: right;\n",
       "    }\n",
       "</style>\n",
       "<table border=\"1\" class=\"dataframe\">\n",
       "  <thead>\n",
       "    <tr style=\"text-align: right;\">\n",
       "      <th></th>\n",
       "      <th>User ID</th>\n",
       "      <th>Gender</th>\n",
       "      <th>Age</th>\n",
       "      <th>EstimatedSalary</th>\n",
       "      <th>Purchased</th>\n",
       "    </tr>\n",
       "  </thead>\n",
       "  <tbody>\n",
       "    <tr>\n",
       "      <td>0</td>\n",
       "      <td>15624510</td>\n",
       "      <td>Male</td>\n",
       "      <td>19</td>\n",
       "      <td>19000</td>\n",
       "      <td>0</td>\n",
       "    </tr>\n",
       "    <tr>\n",
       "      <td>1</td>\n",
       "      <td>15810944</td>\n",
       "      <td>Male</td>\n",
       "      <td>35</td>\n",
       "      <td>20000</td>\n",
       "      <td>0</td>\n",
       "    </tr>\n",
       "    <tr>\n",
       "      <td>2</td>\n",
       "      <td>15668575</td>\n",
       "      <td>Female</td>\n",
       "      <td>26</td>\n",
       "      <td>43000</td>\n",
       "      <td>0</td>\n",
       "    </tr>\n",
       "    <tr>\n",
       "      <td>3</td>\n",
       "      <td>15603246</td>\n",
       "      <td>Female</td>\n",
       "      <td>27</td>\n",
       "      <td>57000</td>\n",
       "      <td>0</td>\n",
       "    </tr>\n",
       "    <tr>\n",
       "      <td>4</td>\n",
       "      <td>15804002</td>\n",
       "      <td>Male</td>\n",
       "      <td>19</td>\n",
       "      <td>76000</td>\n",
       "      <td>0</td>\n",
       "    </tr>\n",
       "    <tr>\n",
       "      <td>...</td>\n",
       "      <td>...</td>\n",
       "      <td>...</td>\n",
       "      <td>...</td>\n",
       "      <td>...</td>\n",
       "      <td>...</td>\n",
       "    </tr>\n",
       "    <tr>\n",
       "      <td>395</td>\n",
       "      <td>15691863</td>\n",
       "      <td>Female</td>\n",
       "      <td>46</td>\n",
       "      <td>41000</td>\n",
       "      <td>1</td>\n",
       "    </tr>\n",
       "    <tr>\n",
       "      <td>396</td>\n",
       "      <td>15706071</td>\n",
       "      <td>Male</td>\n",
       "      <td>51</td>\n",
       "      <td>23000</td>\n",
       "      <td>1</td>\n",
       "    </tr>\n",
       "    <tr>\n",
       "      <td>397</td>\n",
       "      <td>15654296</td>\n",
       "      <td>Female</td>\n",
       "      <td>50</td>\n",
       "      <td>20000</td>\n",
       "      <td>1</td>\n",
       "    </tr>\n",
       "    <tr>\n",
       "      <td>398</td>\n",
       "      <td>15755018</td>\n",
       "      <td>Male</td>\n",
       "      <td>36</td>\n",
       "      <td>33000</td>\n",
       "      <td>0</td>\n",
       "    </tr>\n",
       "    <tr>\n",
       "      <td>399</td>\n",
       "      <td>15594041</td>\n",
       "      <td>Female</td>\n",
       "      <td>49</td>\n",
       "      <td>36000</td>\n",
       "      <td>1</td>\n",
       "    </tr>\n",
       "  </tbody>\n",
       "</table>\n",
       "<p>400 rows × 5 columns</p>\n",
       "</div>"
      ],
      "text/plain": [
       "      User ID  Gender  Age  EstimatedSalary  Purchased\n",
       "0    15624510    Male   19            19000          0\n",
       "1    15810944    Male   35            20000          0\n",
       "2    15668575  Female   26            43000          0\n",
       "3    15603246  Female   27            57000          0\n",
       "4    15804002    Male   19            76000          0\n",
       "..        ...     ...  ...              ...        ...\n",
       "395  15691863  Female   46            41000          1\n",
       "396  15706071    Male   51            23000          1\n",
       "397  15654296  Female   50            20000          1\n",
       "398  15755018    Male   36            33000          0\n",
       "399  15594041  Female   49            36000          1\n",
       "\n",
       "[400 rows x 5 columns]"
      ]
     },
     "execution_count": 24,
     "metadata": {},
     "output_type": "execute_result"
    }
   ],
   "source": [
    "data.info()\n",
    "data"
   ]
  },
  {
   "cell_type": "code",
   "execution_count": 25,
   "metadata": {},
   "outputs": [],
   "source": [
    "features= data.iloc[:,[2,3]].values\n",
    "label = data.iloc[:,4].values"
   ]
  },
  {
   "cell_type": "code",
   "execution_count": 26,
   "metadata": {},
   "outputs": [],
   "source": [
    "from sklearn.model_selection import train_test_split\n",
    "X_train,X_test,y_train,y_test = train_test_split(features,\n",
    "                                                label,\n",
    "                                                test_size=0.2,\n",
    "                                                random_state=10)"
   ]
  },
  {
   "cell_type": "code",
   "execution_count": 27,
   "metadata": {},
   "outputs": [
    {
     "data": {
      "text/plain": [
       "DecisionTreeClassifier(class_weight=None, criterion='gini', max_depth=None,\n",
       "                       max_features=None, max_leaf_nodes=None,\n",
       "                       min_impurity_decrease=0.0, min_impurity_split=None,\n",
       "                       min_samples_leaf=1, min_samples_split=2,\n",
       "                       min_weight_fraction_leaf=0.0, presort=False,\n",
       "                       random_state=None, splitter='best')"
      ]
     },
     "execution_count": 27,
     "metadata": {},
     "output_type": "execute_result"
    }
   ],
   "source": [
    "#DecisionTree Classifier\n",
    "from sklearn.tree import DecisionTreeClassifier\n",
    "model = DecisionTreeClassifier()\n",
    "model.fit(X_train,y_train)"
   ]
  },
  {
   "cell_type": "code",
   "execution_count": 28,
   "metadata": {},
   "outputs": [
    {
     "data": {
      "text/plain": [
       "0.99375"
      ]
     },
     "execution_count": 28,
     "metadata": {},
     "output_type": "execute_result"
    }
   ],
   "source": [
    "model.score(X_train,y_train)"
   ]
  },
  {
   "cell_type": "code",
   "execution_count": 29,
   "metadata": {},
   "outputs": [
    {
     "data": {
      "text/plain": [
       "0.85"
      ]
     },
     "execution_count": 29,
     "metadata": {},
     "output_type": "execute_result"
    }
   ],
   "source": [
    "model.score(X_test,y_test)"
   ]
  },
  {
   "cell_type": "code",
   "execution_count": 30,
   "metadata": {},
   "outputs": [],
   "source": [
    "for i in range(1,401):\n",
    "    X_train,X_test,y_train,y_test = train_test_split(features,\n",
    "                                                label,\n",
    "                                                test_size=0.2,\n",
    "                                                random_state=i)\n",
    "    model = DecisionTreeClassifier()\n",
    "    model.fit(X_train,y_train)\n",
    "    \n",
    "    train_s=model.score(X_train,y_train)\n",
    "    test_s=model.score(X_test,y_test)\n",
    "    \n",
    "    if test_s > train_s:\n",
    "        print(\"{}{}{}\".format(test_s,train_s,i))"
   ]
  },
  {
   "cell_type": "markdown",
   "metadata": {},
   "source": [
    "# Lets Try Bagging with Shuffling Technique"
   ]
  },
  {
   "cell_type": "code",
   "execution_count": 31,
   "metadata": {},
   "outputs": [
    {
     "data": {
      "text/plain": [
       "BaggingClassifier(base_estimator=DecisionTreeClassifier(class_weight=None,\n",
       "                                                        criterion='gini',\n",
       "                                                        max_depth=None,\n",
       "                                                        max_features=None,\n",
       "                                                        max_leaf_nodes=None,\n",
       "                                                        min_impurity_decrease=0.0,\n",
       "                                                        min_impurity_split=None,\n",
       "                                                        min_samples_leaf=1,\n",
       "                                                        min_samples_split=2,\n",
       "                                                        min_weight_fraction_leaf=0.0,\n",
       "                                                        presort=False,\n",
       "                                                        random_state=None,\n",
       "                                                        splitter='best'),\n",
       "                  bootstrap=True, bootstrap_features=False, max_features=1.0,\n",
       "                  max_samples=1.0, n_estimators=11, n_jobs=None,\n",
       "                  oob_score=False, random_state=None, verbose=0,\n",
       "                  warm_start=False)"
      ]
     },
     "execution_count": 31,
     "metadata": {},
     "output_type": "execute_result"
    }
   ],
   "source": [
    "from sklearn.ensemble import BaggingClassifier\n",
    "\n",
    "algorithm = DecisionTreeClassifier()\n",
    "\n",
    "model = BaggingClassifier(n_estimators=11,\n",
    "                         base_estimator=algorithm)\n",
    "\n",
    "model.fit(X_train,y_train)"
   ]
  },
  {
   "cell_type": "code",
   "execution_count": 32,
   "metadata": {},
   "outputs": [
    {
     "data": {
      "text/plain": [
       "0.9875"
      ]
     },
     "execution_count": 32,
     "metadata": {},
     "output_type": "execute_result"
    }
   ],
   "source": [
    "model.score(X_train,y_train)"
   ]
  },
  {
   "cell_type": "code",
   "execution_count": 33,
   "metadata": {},
   "outputs": [
    {
     "data": {
      "text/plain": [
       "0.875"
      ]
     },
     "execution_count": 33,
     "metadata": {},
     "output_type": "execute_result"
    }
   ],
   "source": [
    "model.score(X_test,y_test)"
   ]
  },
  {
   "cell_type": "code",
   "execution_count": 34,
   "metadata": {},
   "outputs": [],
   "source": [
    "for i in range(1,401):\n",
    "    X_train,X_test,y_train,y_test = train_test_split(features,\n",
    "                                                label,\n",
    "                                                test_size=0.2,\n",
    "                                                random_state=i)\n",
    "    algorithm = DecisionTreeClassifier()\n",
    "    model = BaggingClassifier(n_estimators=11,\n",
    "                         base_estimator=algorithm)\n",
    "    model.fit(X_train,y_train)\n",
    "    \n",
    "    train_s=model.score(X_train,y_train)\n",
    "    test_s=model.score(X_test,y_test)\n",
    "    \n",
    "    if test_s > train_s:\n",
    "        print(\"{}{}{}\".format(test_s,train_s,i))"
   ]
  },
  {
   "cell_type": "markdown",
   "metadata": {},
   "source": [
    "# Lets Try Bagging with Sampling Technique"
   ]
  },
  {
   "cell_type": "markdown",
   "metadata": {},
   "source": [
    "### 1. Without Replacement"
   ]
  },
  {
   "cell_type": "code",
   "execution_count": 35,
   "metadata": {},
   "outputs": [
    {
     "data": {
      "text/plain": [
       "18"
      ]
     },
     "execution_count": 35,
     "metadata": {},
     "output_type": "execute_result"
    }
   ],
   "source": [
    "sampleSize = int(round(np.sqrt(len(X_train))))\n",
    "sampleSize"
   ]
  },
  {
   "cell_type": "code",
   "execution_count": 36,
   "metadata": {},
   "outputs": [
    {
     "name": "stdout",
     "output_type": "stream",
     "text": [
      "0.9250.9218754\n",
      "0.88750.868757\n",
      "0.88750.8781259\n",
      "0.91250.910\n",
      "0.90.89687513\n",
      "0.88750.88437516\n",
      "0.90.8937518\n",
      "0.91250.89687523\n",
      "0.96250.8687524\n",
      "0.91250.8937525\n",
      "0.93750.89062530\n",
      "0.950.88437533\n",
      "0.950.90937535\n",
      "0.9250.89687539\n",
      "0.90.89687540\n",
      "0.88750.88437541\n",
      "0.91250.90312542\n",
      "0.91250.90937545\n",
      "0.91250.8937546\n",
      "0.90.8937550\n",
      "0.9250.912554\n",
      "0.9250.90937557\n",
      "0.93750.89062558\n",
      "0.91250.8812559\n",
      "0.950.87812561\n",
      "0.950.8937565\n",
      "0.9250.8937566\n",
      "0.91250.887567\n",
      "0.91250.9062568\n",
      "0.88750.837572\n",
      "0.950.89062573\n",
      "0.91250.90937575\n",
      "0.96250.87187576\n",
      "0.91250.90312577\n",
      "0.950.979\n",
      "0.90.88437581\n",
      "0.91250.9062582\n",
      "0.91250.90312587\n",
      "0.950.887590\n",
      "0.88750.8812594\n",
      "0.93750.89062595\n",
      "0.90.89687597\n",
      "0.9250.903125101\n",
      "0.9250.9104\n",
      "0.93750.9106\n",
      "0.88750.871875107\n",
      "0.9750.9111\n",
      "0.91250.865625112\n",
      "0.91250.890625113\n",
      "0.91250.896875116\n",
      "0.91250.89375119\n",
      "0.950.875120\n",
      "0.9250.88125124\n",
      "0.91250.909375128\n",
      "0.91250.9130\n",
      "0.91250.890625134\n",
      "0.91250.90625147\n",
      "0.91250.9148\n",
      "0.91250.903125149\n",
      "0.9250.878125150\n",
      "0.93750.896875151\n",
      "0.850.834375153\n",
      "0.950.896875155\n",
      "0.91250.90625156\n",
      "0.96250.89375158\n",
      "0.93750.9159\n",
      "0.88750.828125161\n",
      "0.9250.896875164\n",
      "0.9250.90625166\n",
      "0.93750.89375170\n",
      "0.950.890625172\n",
      "0.9250.91875185\n",
      "0.90.884375186\n",
      "0.91250.90625195\n",
      "0.9250.9197\n",
      "0.93750.8875198\n",
      "0.90.8875199\n",
      "0.86250.859375201\n",
      "0.91250.90625202\n",
      "0.9250.884375203\n",
      "0.91250.909375204\n",
      "0.93750.896875206\n",
      "0.88750.88125211\n",
      "0.91250.9214\n",
      "0.950.9217\n",
      "0.96250.890625220\n",
      "0.91250.903125221\n",
      "0.91250.896875222\n",
      "0.950.875228\n",
      "0.9250.89375229\n",
      "0.90.890625232\n",
      "0.91250.903125234\n",
      "0.950.90625235\n",
      "0.88750.8625236\n",
      "0.91250.9240\n",
      "0.9250.89375241\n",
      "0.950.878125243\n",
      "0.9250.9125244\n",
      "0.950.890625245\n",
      "0.90.896875246\n",
      "0.93750.89375248\n",
      "0.91250.90625249\n",
      "0.90.884375251\n",
      "0.93750.890625252\n",
      "0.93750.8875257\n",
      "0.93750.90625259\n",
      "0.91250.90625261\n",
      "0.88750.878125262\n",
      "0.9250.903125264\n",
      "0.9250.90625266\n",
      "0.91250.90625267\n",
      "0.88750.871875270\n",
      "0.91250.89375276\n",
      "0.9250.9277\n",
      "0.950.90625282\n",
      "0.91250.9284\n",
      "0.86250.85285\n",
      "0.91250.896875286\n",
      "0.93750.903125289\n",
      "0.9250.8875290\n",
      "0.93750.89375293\n",
      "0.88750.88125295\n",
      "0.9250.8875299\n",
      "0.88750.83125300\n",
      "0.93750.89375302\n",
      "0.93750.903125305\n",
      "0.950.896875306\n",
      "0.9250.91875310\n",
      "0.9250.890625313\n",
      "0.88750.840625314\n",
      "0.9250.896875315\n",
      "0.91250.89375319\n",
      "0.9250.88125321\n",
      "0.9250.896875323\n",
      "0.9250.909375324\n",
      "0.90.88125326\n",
      "0.8750.86875328\n",
      "0.9250.9332\n",
      "0.96250.90625336\n",
      "0.90.884375338\n",
      "0.90.890625339\n",
      "0.9250.8875343\n",
      "0.88750.884375344\n",
      "0.88750.8625348\n",
      "0.93750.865625351\n",
      "0.91250.909375353\n",
      "0.9250.8875354\n",
      "0.9250.890625357\n",
      "0.91250.90625358\n",
      "0.91250.909375363\n",
      "0.91250.9365\n",
      "0.96250.884375366\n",
      "0.8750.86875371\n",
      "0.91250.9372\n",
      "0.93750.903125373\n",
      "0.950.89375376\n",
      "0.90.890625377\n",
      "0.93750.90625378\n",
      "0.91250.89375382\n",
      "0.91250.9384\n",
      "0.90.88125385\n",
      "0.88750.88125386\n",
      "0.91250.9387\n",
      "0.91250.871875388\n",
      "0.93750.90625395\n",
      "0.9250.909375399\n",
      "0.9250.90625400\n"
     ]
    }
   ],
   "source": [
    "for i in range(1,401):\n",
    "    X_train,X_test,y_train,y_test = train_test_split(features,\n",
    "                                                label,\n",
    "                                                test_size=0.2,\n",
    "                                                random_state=i)\n",
    "    algorithm = DecisionTreeClassifier()\n",
    "    modelSampleTechnique2 = BaggingClassifier(n_estimators=11, #no of learners\n",
    "                                         base_estimator=algorithm, #algorithm\n",
    "                                         max_samples=sampleSize, #No of data pts per model\n",
    "                                         bootstrap=False,#Sample Without Replacement\n",
    "                                         random_state=76) \n",
    "    modelSampleTechnique2.fit(X_train,y_train)\n",
    "    \n",
    "    train_s=modelSampleTechnique2.score(X_train,y_train)\n",
    "    test_s=modelSampleTechnique2.score(X_test,y_test)\n",
    "    \n",
    "    if test_s > train_s:\n",
    "        print(\"{}{}{}\".format(test_s,train_s,i))"
   ]
  },
  {
   "cell_type": "markdown",
   "metadata": {},
   "source": [
    "### 2. With Replacement"
   ]
  },
  {
   "cell_type": "code",
   "execution_count": 37,
   "metadata": {},
   "outputs": [
    {
     "name": "stdout",
     "output_type": "stream",
     "text": [
      "0.93750.8843757\n",
      "0.91250.893759\n",
      "0.91250.8937510\n",
      "0.8750.84687513\n",
      "0.90.8937516\n",
      "0.91250.89687518\n",
      "0.93750.90937520\n",
      "0.91250.90312521\n",
      "0.88750.84687524\n",
      "0.91250.89062525\n",
      "0.93750.89062526\n",
      "0.9250.87530\n",
      "0.91250.8812533\n",
      "0.91250.887535\n",
      "0.86250.85937540\n",
      "0.91250.887545\n",
      "0.91250.946\n",
      "0.93750.89687547\n",
      "0.93750.8937550\n",
      "0.91250.951\n",
      "0.93750.954\n",
      "0.90.887555\n",
      "0.91250.8812558\n",
      "0.90.8687559\n",
      "0.9250.90937560\n",
      "0.950.8937561\n",
      "0.950.90312565\n",
      "0.88750.862566\n",
      "0.90.88437567\n",
      "0.9250.89062568\n",
      "0.86250.8562570\n",
      "0.9250.86562572\n",
      "0.9750.8937576\n",
      "0.93750.8812577\n",
      "0.93750.979\n",
      "0.8750.87187580\n",
      "0.91250.8588\n",
      "0.88750.8812590\n",
      "0.90.89062595\n",
      "0.90.887597\n",
      "0.9250.9101\n",
      "0.9250.915625102\n",
      "0.90.8625106\n",
      "0.9250.8875107\n",
      "0.9250.896875110\n",
      "0.91250.853125111\n",
      "0.93750.890625112\n",
      "0.93750.884375116\n",
      "0.96250.90625120\n",
      "0.91250.90625121\n",
      "0.93750.896875122\n",
      "0.9250.89375124\n",
      "0.91250.89375128\n",
      "0.91250.878125130\n",
      "0.91250.8625134\n",
      "0.9250.909375147\n",
      "0.8750.865625148\n",
      "0.88750.878125149\n",
      "0.9250.9150\n",
      "0.8750.846875151\n",
      "0.90.8875152\n",
      "0.96250.9153\n",
      "0.96250.8875155\n",
      "0.93750.896875158\n",
      "0.9250.909375159\n",
      "0.91250.865625161\n",
      "0.90.89375164\n",
      "0.9250.896875166\n",
      "0.88750.878125168\n",
      "0.91250.89375169\n",
      "0.93750.875172\n",
      "0.9250.8875173\n",
      "0.91250.89375179\n",
      "0.9250.88125186\n",
      "0.93750.909375190\n",
      "0.91250.903125191\n",
      "0.8750.859375192\n",
      "0.96250.89375197\n",
      "0.950.903125198\n",
      "0.950.909375199\n",
      "0.90.890625201\n",
      "0.93750.903125202\n",
      "0.91250.875203\n",
      "0.91250.90625204\n",
      "0.9250.903125206\n",
      "0.9250.903125207\n",
      "0.96250.90625211\n",
      "0.9250.89375214\n",
      "0.950.8875217\n",
      "0.98750.875220\n",
      "0.950.90625228\n",
      "0.88750.85625229\n",
      "0.90.896875231\n",
      "0.91250.909375233\n",
      "0.90.89375234\n",
      "0.91250.89375241\n",
      "0.96250.88125243\n",
      "0.90.896875244\n",
      "0.93750.89375245\n",
      "0.91250.909375246\n",
      "0.88750.884375247\n",
      "0.9250.90625248\n",
      "0.9250.9249\n",
      "0.96250.90625252\n",
      "0.90.896875256\n",
      "0.9250.90625257\n",
      "0.88750.878125261\n",
      "0.90.86875266\n",
      "0.9250.878125270\n",
      "0.93750.89375271\n",
      "0.91250.89375272\n",
      "0.91250.909375274\n",
      "0.9250.90625276\n",
      "0.90.89375277\n",
      "0.91250.89375278\n",
      "0.9250.896875286\n",
      "0.9250.90625289\n",
      "0.91250.8875290\n",
      "0.91250.9297\n",
      "0.96250.890625299\n",
      "0.950.90625300\n",
      "0.9250.890625302\n",
      "0.91250.903125305\n",
      "0.950.9306\n",
      "0.91250.90625307\n",
      "0.91250.903125313\n",
      "0.950.89375314\n",
      "0.9250.890625315\n",
      "0.90.896875321\n",
      "0.96250.90625323\n",
      "0.93750.896875328\n",
      "0.93750.878125332\n",
      "0.90.884375333\n",
      "0.9250.9125334\n",
      "0.950.871875336\n",
      "0.91250.89375338\n",
      "0.8750.865625340\n",
      "0.91250.9343\n",
      "0.91250.878125348\n",
      "0.9250.909375349\n",
      "0.93750.909375351\n",
      "0.91250.88125354\n",
      "0.91250.896875357\n",
      "0.91250.884375358\n",
      "0.91250.9360\n",
      "0.9250.878125361\n",
      "0.96250.9366\n",
      "0.90.89375368\n",
      "0.91250.90625372\n",
      "0.93750.8875373\n",
      "0.9250.884375376\n",
      "0.93750.909375377\n",
      "0.91250.88125378\n",
      "0.86250.85379\n",
      "0.93750.9125381\n",
      "0.90.89375382\n",
      "0.9250.88125384\n",
      "0.88750.878125387\n",
      "0.88750.85388\n",
      "0.90.890625389\n",
      "0.91250.9393\n",
      "0.9250.903125399\n"
     ]
    }
   ],
   "source": [
    "for i in range(1,401):\n",
    "    X_train,X_test,y_train,y_test = train_test_split(features,\n",
    "                                                label,\n",
    "                                                test_size=0.2,\n",
    "                                                random_state=i)\n",
    "    algorithm = DecisionTreeClassifier()\n",
    "    modelSampleTechnique1 = BaggingClassifier(n_estimators=11, #no of learners\n",
    "                                         base_estimator=algorithm, #algorithm\n",
    "                                         max_samples=sampleSize, #No of data pts per model\n",
    "                                         bootstrap=True) #Sample With Replacement\n",
    "    modelSampleTechnique1.fit(X_train,y_train)\n",
    "    \n",
    "    train_s=modelSampleTechnique1.score(X_train,y_train)\n",
    "    test_s=modelSampleTechnique1.score(X_test,y_test)\n",
    "    \n",
    "    if test_s > train_s:\n",
    "        print(\"{}{}{}\".format(test_s,train_s,i))"
   ]
  },
  {
   "cell_type": "markdown",
   "metadata": {},
   "source": [
    "# RandomForest\n",
    "Works only on Shuffling Bagging and not Sampling Bagging"
   ]
  },
  {
   "cell_type": "code",
   "execution_count": 24,
   "metadata": {},
   "outputs": [],
   "source": [
    "from sklearn.ensemble import RandomForestClassifier\n",
    "\n",
    "\n",
    "for i in range(1,401):\n",
    "    X_train,X_test,y_train,y_test = train_test_split(features,\n",
    "                                                label,\n",
    "                                                test_size=0.2,\n",
    "                                                random_state=i)\n",
    "    \n",
    "    modelSampleTechnique1 = RandomForestClassifier(n_estimators=11, #no of learners\n",
    "                                         bootstrap=False) #Sample With Replacement\n",
    "    modelSampleTechnique1.fit(X_train,y_train)\n",
    "    \n",
    "    train_s=modelSampleTechnique1.score(X_train,y_train)\n",
    "    test_s=modelSampleTechnique1.score(X_test,y_test)\n",
    "    \n",
    "    if test_s > train_s:\n",
    "        print(\"{}{}{}\".format(test_s,train_s,i))"
   ]
  },
  {
   "cell_type": "code",
   "execution_count": null,
   "metadata": {},
   "outputs": [],
   "source": []
  }
 ],
 "metadata": {
  "kernelspec": {
   "display_name": "Python 3",
   "language": "python",
   "name": "python3"
  },
  "language_info": {
   "codemirror_mode": {
    "name": "ipython",
    "version": 3
   },
   "file_extension": ".py",
   "mimetype": "text/x-python",
   "name": "python",
   "nbconvert_exporter": "python",
   "pygments_lexer": "ipython3",
   "version": "3.7.4"
  }
 },
 "nbformat": 4,
 "nbformat_minor": 2
}
